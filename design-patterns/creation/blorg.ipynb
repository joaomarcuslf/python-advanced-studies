{
  "nbformat": 4,
  "nbformat_minor": 0,
  "metadata": {
    "colab": {
      "name": "Untitled1.ipynb",
      "private_outputs": true,
      "provenance": []
    },
    "kernelspec": {
      "name": "python3",
      "display_name": "Python 3",
      "language": "python"
    }
  },
  "cells": [
    {
      "source": [
        "Borg Pattern:\n",
        "- This patterns creates an Singleton like Class, but it isn't the instace tha is shared, but the insternal state."
      ],
      "cell_type": "markdown",
      "metadata": {}
    },
    {
      "cell_type": "code",
      "metadata": {
        "id": "qVenIzZhSB2_"
      },
      "source": [
        "class Borg(object):\n",
        "    __shared_state = {}\n",
        "\n",
        "    def __init__(self):\n",
        "        self.__dict__ = self.__shared_state\n",
        "        pass\n"
      ],
      "execution_count": 2,
      "outputs": []
    },
    {
      "source": [
        "Usage:"
      ],
      "cell_type": "markdown",
      "metadata": {}
    },
    {
      "cell_type": "code",
      "execution_count": 3,
      "metadata": {},
      "outputs": [
        {
          "output_type": "stream",
          "name": "stdout",
          "text": [
            "Borg\tObject\t'b':\t <__main__.Borg object at 0x000002B20CB87520>\nBorg\tObject\t'b1':\t <__main__.Borg object at 0x000002B20CB87400>\nObject\tState\t'b': {'GLOBAL_VARS': {'env': 'development'}}\nObject\tState\t'b1': {'GLOBAL_VARS': {'env': 'development'}}\n"
          ]
        }
      ],
      "source": [
        "b = Borg()\n",
        "b1 = Borg()\n",
        "\n",
        "b.GLOBAL_VARS = { \n",
        "    'env': 'development',\n",
        " }\n",
        "\n",
        "print(\"Borg\tObject\t'b':\t\",\tb)\n",
        "print(\"Borg\tObject\t'b1':\t\",\tb1)\n",
        "\n",
        "print(\"Object\tState\t'b':\",\tb.__dict__)\n",
        "print(\"Object\tState\t'b1':\",\tb1.__dict__)\n"
      ]
    },
    {
      "cell_type": "code",
      "execution_count": null,
      "metadata": {},
      "outputs": [],
      "source": []
    }
  ]
}