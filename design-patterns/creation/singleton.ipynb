{
  "nbformat": 4,
  "nbformat_minor": 0,
  "metadata": {
    "colab": {
      "name": "Untitled1.ipynb",
      "private_outputs": true,
      "provenance": []
    },
    "kernelspec": {
      "name": "python3",
      "display_name": "Python 3",
      "language": "python"
    }
  },
  "cells": [
    {
      "source": [
        "Singleton Pattern:\n",
        "- This patterns creates just one instance for the class, spending less the resources of the server."
      ],
      "cell_type": "markdown",
      "metadata": {}
    },
    {
      "cell_type": "code",
      "metadata": {
        "id": "qVenIzZhSB2_"
      },
      "source": [
        "class Singleton(object):\n",
        "    def __new__(cls):\n",
        "        if not hasattr(cls, 'instance'):\n",
        "            cls.instance = super(Singleton, cls).__new__(cls)\n",
        "\n",
        "        return cls.instance"
      ],
      "execution_count": 6,
      "outputs": []
    },
    {
      "source": [
        "Usage:"
      ],
      "cell_type": "markdown",
      "metadata": {}
    },
    {
      "cell_type": "code",
      "execution_count": 7,
      "metadata": {},
      "outputs": [
        {
          "output_type": "stream",
          "name": "stdout",
          "text": [
            "Singleton\tObject\t's1':\t <__main__.Singleton object at 0x00000265945273A0>\nSingleton\tObject\t's2':\t <__main__.Singleton object at 0x00000265945273A0>\n"
          ]
        }
      ],
      "source": [
        "s1 = Singleton()\n",
        "\n",
        "s2 = Singleton()\n",
        "\n",
        "print(\"Singleton\tObject\t's1':\t\",\ts1)\n",
        "print(\"Singleton\tObject\t's2':\t\",\ts2)\n"
      ]
    },
    {
      "cell_type": "code",
      "execution_count": null,
      "metadata": {},
      "outputs": [],
      "source": []
    }
  ]
}